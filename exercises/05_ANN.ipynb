{
 "cells": [
  {
   "cell_type": "code",
   "execution_count": null,
   "id": "7258b41d",
   "metadata": {},
   "outputs": [],
   "source": [
    "# Classification of points (images) lying on one side of the curve - the decision boundary:\n",
    "#                     \n",
    "#                                                                                  \n",
    "#                  (1,3)                (3,3)  \n",
    "#                       o-----------------o \n",
    "#                      /                   \\      class 0     \n",
    "#                     /                     \\       \n",
    "#                    /                       \\                 \n",
    "#                   /                         \\                      \n",
    "# -----------------o  (-1,1)            (5,1)  o-------------------------------------------\n",
    "#                 \n",
    "#                              class 1  "
   ]
  },
  {
   "cell_type": "code",
   "execution_count": 4,
   "id": "c358ce4b",
   "metadata": {},
   "outputs": [
    {
     "name": "stdout",
     "output_type": "stream",
     "text": [
      "2.16.2\n"
     ]
    }
   ],
   "source": [
    "import time\n",
    "import os.path\n",
    "import pdb\n",
    "import matplotlib.pyplot as plt \n",
    "import numpy as np\n",
    "import tensorflow.compat.v1 as tf\n",
    "print(tf.__version__)\n",
    "# if tensorflow2 use tf.compat.v1. apart tf. (see classification2 script)\n",
    "tf.compat.v1.disable_eager_execution() "
   ]
  },
  {
   "cell_type": "code",
   "execution_count": 5,
   "id": "f321e0c7",
   "metadata": {},
   "outputs": [
    {
     "name": "stderr",
     "output_type": "stream",
     "text": [
      "2025-05-05 23:43:55.065293: I external/local_xla/xla/stream_executor/cuda/cuda_executor.cc:998] successful NUMA node read from SysFS had negative value (-1), but there must be at least one NUMA node, so returning NUMA node zero. See more at https://github.com/torvalds/linux/blob/v6.0/Documentation/ABI/testing/sysfs-bus-pci#L344-L355\n",
      "2025-05-05 23:43:55.100065: I external/local_xla/xla/stream_executor/cuda/cuda_executor.cc:998] successful NUMA node read from SysFS had negative value (-1), but there must be at least one NUMA node, so returning NUMA node zero. See more at https://github.com/torvalds/linux/blob/v6.0/Documentation/ABI/testing/sysfs-bus-pci#L344-L355\n",
      "2025-05-05 23:43:55.100763: I external/local_xla/xla/stream_executor/cuda/cuda_executor.cc:998] successful NUMA node read from SysFS had negative value (-1), but there must be at least one NUMA node, so returning NUMA node zero. See more at https://github.com/torvalds/linux/blob/v6.0/Documentation/ABI/testing/sysfs-bus-pci#L344-L355\n",
      "2025-05-05 23:43:55.164680: I external/local_xla/xla/stream_executor/cuda/cuda_executor.cc:998] successful NUMA node read from SysFS had negative value (-1), but there must be at least one NUMA node, so returning NUMA node zero. See more at https://github.com/torvalds/linux/blob/v6.0/Documentation/ABI/testing/sysfs-bus-pci#L344-L355\n",
      "2025-05-05 23:43:55.165053: I external/local_xla/xla/stream_executor/cuda/cuda_executor.cc:998] successful NUMA node read from SysFS had negative value (-1), but there must be at least one NUMA node, so returning NUMA node zero. See more at https://github.com/torvalds/linux/blob/v6.0/Documentation/ABI/testing/sysfs-bus-pci#L344-L355\n",
      "2025-05-05 23:43:55.165378: I external/local_xla/xla/stream_executor/cuda/cuda_executor.cc:998] successful NUMA node read from SysFS had negative value (-1), but there must be at least one NUMA node, so returning NUMA node zero. See more at https://github.com/torvalds/linux/blob/v6.0/Documentation/ABI/testing/sysfs-bus-pci#L344-L355\n",
      "2025-05-05 23:43:55.165572: I tensorflow/core/common_runtime/gpu/gpu_device.cc:1928] Created device /job:localhost/replica:0/task:0/device:GPU:0 with 183 MB memory:  -> device: 0, name: NVIDIA GeForce 940MX, pci bus id: 0000:01:00.0, compute capability: 5.0\n"
     ]
    }
   ],
   "source": [
    "num_of_features = 2\n",
    "num_of_epochs = 1000\n",
    "num_to_show = 50\n",
    "\n",
    "sess = tf.InteractiveSession()\n",
    "\n",
    "x = tf.placeholder(tf.float32, shape=[None, num_of_features])  # place for input vectors\n",
    "y_ = tf.placeholder(tf.float32, shape=[None, 1])               # place for desired output of ANN"
   ]
  },
  {
   "cell_type": "markdown",
   "id": "86d8b0cd",
   "metadata": {},
   "source": [
    "### Analytical version\n",
    "(See more: https://d2l.ai/chapter_linear-regression/linear-regression.html )"
   ]
  },
  {
   "cell_type": "code",
   "execution_count": null,
   "id": "ca28a5ed",
   "metadata": {},
   "outputs": [],
   "source": [
    "my_tensor = tf.constant([.........],dtype=float)\n",
    "IW_a = tf.Variable(my_tensor)                                # 1-st level weights\n",
    "b1_a = tf.Variable(tf.constant([........],dtype=float))      # 1-st level biases -||- "
   ]
  },
  {
   "cell_type": "code",
   "execution_count": null,
   "id": "f9d2d4bd",
   "metadata": {},
   "outputs": [],
   "source": [
    "# output values from 1-st level:\n",
    "h1_a = .................................                     \n",
    "                                                             # use sharp threshold activation function like:\n",
    "                                                             #\n",
    "                                                             #          ---------\n",
    "                                                             #          |\n",
    "                                                             #   --------"
   ]
  },
  {
   "cell_type": "code",
   "execution_count": null,
   "id": "fa05ed74",
   "metadata": {},
   "outputs": [],
   "source": [
    "LW21_a = ..................           # 2-nd level weights values - analytical version\n",
    "b2_a = ....................  "
   ]
  },
  {
   "cell_type": "code",
   "execution_count": null,
   "id": "60bea93d",
   "metadata": {},
   "outputs": [],
   "source": [
    "y_a = ......................                   # output flom ANN\n",
    "y = ........................                   # (single value using sigmoidal act.funct in range (0,1))"
   ]
  },
  {
   "cell_type": "markdown",
   "id": "dd35dc27",
   "metadata": {},
   "source": [
    "### Trainable version"
   ]
  },
  {
   "cell_type": "code",
   "execution_count": null,
   "id": "a533348a",
   "metadata": {},
   "outputs": [],
   "source": [
    "IW = ....................                                    # 1-st level weights\n",
    "b1 = ....................                                    # 1-st level biases -||-"
   ]
  },
  {
   "cell_type": "code",
   "execution_count": null,
   "id": "574917de",
   "metadata": {},
   "outputs": [],
   "source": [
    "h1 = ..................................                       # use continuous version of activation function                                                       "
   ]
  },
  {
   "cell_type": "code",
   "execution_count": null,
   "id": "44b142ce",
   "metadata": {},
   "outputs": [],
   "source": [
    "LW21 = ..................           # 2-nd level weights values\n",
    "b2 = ....................                                          # 2-nd level bias values\n",
    "\n",
    "# LW32 = .................           # maybe 3-d layer\n",
    "# b3 = ..................."
   ]
  },
  {
   "cell_type": "code",
   "execution_count": null,
   "id": "e12cc8de",
   "metadata": {},
   "outputs": [],
   "source": [
    "mean_square_error = tf.reduce_mean(tf.reduce_sum((y_ - y)*(y_ - y), reduction_indices=[1]))          # MSE loss function \n",
    "cross_entropy = tf.reduce_mean(-tf.reduce_sum(y_ * tf.log(y) + y*tf.log(y_+0.001), reduction_indices=[1])) # full cross-entropy loss function\n",
    "\n",
    "train_step = tf.train.GradientDescentOptimizer(0.5).minimize(mean_square_error)   # training method, step value, loss function \n",
    "                                                                              # You can choose loss function\n",
    "\n",
    "init = tf.global_variables_initializer() \n",
    "\n",
    "sess = tf.Session()\n",
    "sess.run(init)\n"
   ]
  },
  {
   "cell_type": "markdown",
   "id": "3d6b3a7d",
   "metadata": {},
   "source": [
    "#### The training process"
   ]
  },
  {
   "cell_type": "code",
   "execution_count": null,
   "id": "bbb856d7",
   "metadata": {},
   "outputs": [],
   "source": [
    "# ........................................................\n",
    "# ........................................................"
   ]
  },
  {
   "cell_type": "markdown",
   "id": "dd331656",
   "metadata": {},
   "source": [
    "#### Drawing decision boundary"
   ]
  },
  {
   "cell_type": "code",
   "execution_count": null,
   "id": "482e6b25",
   "metadata": {},
   "outputs": [],
   "source": [
    "X1, X2 = np.meshgrid(np.linspace(-4, 8, 120), np.linspace(-4,8, 120))  # grid of points in 2D plane\n",
    "P = np.stack((X1.flatten(),X2.flatten()), axis=1)                    # points formated for ANN input\n",
    "Y = sess.run(y_a, feed_dict={x: P})                                    # ANN outputs for flatten grid  points\n",
    "Z = np.reshape(Y,X1.shape)                                           # reshaping to shape of grid \n",
    "plt.contourf(X1, X2, Z, levels=[0.5, 1.0])                           # curve for level=0.5 - a decision boundary, shaded class 1 area\n",
    "plt.title('v4 analytical method')\n",
    "plt.show()\n"
   ]
  },
  {
   "cell_type": "markdown",
   "id": "f56fe5c2",
   "metadata": {},
   "source": [
    "#### Drawing 3D mesh"
   ]
  },
  {
   "cell_type": "code",
   "execution_count": null,
   "id": "cf1750c5",
   "metadata": {},
   "outputs": [],
   "source": [
    "from matplotlib import cm\n",
    "from mpl_toolkits.mplot3d import Axes3D\n",
    "fig = plt.figure()\n",
    "ax = Axes3D(fig)\n",
    "ax.plot_surface(X1, X2, Z, rstride=1, cstride=1, cmap=cm.viridis)  \n",
    "plt.title('v4 analytical method')       \n",
    "plt.show()"
   ]
  }
 ],
 "metadata": {
  "kernelspec": {
   "display_name": "base",
   "language": "python",
   "name": "python3"
  },
  "language_info": {
   "codemirror_mode": {
    "name": "ipython",
    "version": 3
   },
   "file_extension": ".py",
   "mimetype": "text/x-python",
   "name": "python",
   "nbconvert_exporter": "python",
   "pygments_lexer": "ipython3",
   "version": "3.11.7"
  }
 },
 "nbformat": 4,
 "nbformat_minor": 5
}
